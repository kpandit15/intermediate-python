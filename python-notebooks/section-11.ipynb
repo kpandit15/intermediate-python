{
    "cells": [
        {
            "cell_type": "markdown",
            "id": "ee40ef7f",
            "metadata": {},
            "source": [
                "## Built-in FUnctions"
            ]
        },
        {
            "cell_type": "markdown",
            "id": "944bb955",
            "metadata": {},
            "source": [
                "### print()"
            ]
        },
        {
            "cell_type": "code",
            "execution_count": 1,
            "id": "fdafba12",
            "metadata": {},
            "outputs": [
                {
                    "name": "stdout",
                    "output_type": "stream",
                    "text": [
                        "Mario is a good game\n"
                    ]
                }
            ],
            "source": [
                "print(\"Mario\", \"is\", \"a\", \"good\", \"game\", sep=\" \")"
            ]
        },
        {
            "cell_type": "code",
            "execution_count": 2,
            "id": "5513bf14",
            "metadata": {},
            "outputs": [
                {
                    "name": "stdout",
                    "output_type": "stream",
                    "text": [
                        "My name is Kundan. I am from Darbhanga, Bhiar.\n"
                    ]
                }
            ],
            "source": [
                "print(\"My name is Kundan\", end=\". \")\n",
                "print(\"I am from Darbhanga, Bhiar.\")"
            ]
        },
        {
            "cell_type": "markdown",
            "id": "fc61c7ff",
            "metadata": {},
            "source": [
                "### enumerate()"
            ]
        },
        {
            "cell_type": "code",
            "execution_count": 4,
            "id": "026ff02b",
            "metadata": {},
            "outputs": [
                {
                    "name": "stdout",
                    "output_type": "stream",
                    "text": [
                        "0 kundan\n",
                        "1 pankaj\n",
                        "2 kumarika\n",
                        "3 shubhank\n"
                    ]
                }
            ],
            "source": [
                "name_list = [\"kundan\", \"pankaj\", \"kumarika\", \"shubhank\"]\n",
                "for index, item in enumerate(name_list):\n",
                "    print(index, item)"
            ]
        },
        {
            "cell_type": "code",
            "execution_count": 5,
            "id": "8ac3cf2d",
            "metadata": {},
            "outputs": [
                {
                    "name": "stdout",
                    "output_type": "stream",
                    "text": [
                        "1 kundan\n",
                        "2 pankaj\n",
                        "3 kumarika\n",
                        "4 shubhank\n"
                    ]
                }
            ],
            "source": [
                "# start form 1\n",
                "name_list = [\"kundan\", \"pankaj\", \"kumarika\", \"shubhank\"]\n",
                "for index, item in enumerate(name_list, start=1):\n",
                "    print(index, item)"
            ]
        },
        {
            "cell_type": "markdown",
            "id": "dac7c681",
            "metadata": {},
            "source": [
                "## round()"
            ]
        },
        {
            "cell_type": "code",
            "execution_count": 6,
            "id": "ce9b50ce",
            "metadata": {},
            "outputs": [
                {
                    "name": "stdout",
                    "output_type": "stream",
                    "text": [
                        "1.667\n"
                    ]
                }
            ],
            "source": [
                "number: float = 1.666666666666666\n",
                "print(round(number, 3))"
            ]
        },
        {
            "cell_type": "markdown",
            "id": "ba1c1548",
            "metadata": {},
            "source": [
                "### range()"
            ]
        },
        {
            "cell_type": "code",
            "execution_count": 2,
            "id": "26bfebec",
            "metadata": {},
            "outputs": [
                {
                    "name": "stdout",
                    "output_type": "stream",
                    "text": [
                        "[0, 1, 2, 3, 4, 5, 6, 7, 8, 9]\n"
                    ]
                }
            ],
            "source": [
                "numbers: range = range(10)\n",
                "\n",
                "print(list(numbers))"
            ]
        },
        {
            "cell_type": "code",
            "execution_count": 3,
            "id": "45b6e66e",
            "metadata": {},
            "outputs": [
                {
                    "ename": "OverflowError",
                    "evalue": "Python int too large to convert to C ssize_t",
                    "output_type": "error",
                    "traceback": [
                        "\u001b[0;31m---------------------------------------------------------------------------\u001b[0m",
                        "\u001b[0;31mOverflowError\u001b[0m                             Traceback (most recent call last)",
                        "Cell \u001b[0;32mIn[3], line 3\u001b[0m\n\u001b[1;32m      1\u001b[0m numbers: \u001b[38;5;28mrange\u001b[39m \u001b[38;5;241m=\u001b[39m \u001b[38;5;28mrange\u001b[39m(\u001b[38;5;241m10\u001b[39m\u001b[38;5;241m*\u001b[39m\u001b[38;5;241m*\u001b[39m\u001b[38;5;241m20\u001b[39m)\n\u001b[0;32m----> 3\u001b[0m \u001b[38;5;28mprint\u001b[39m(\u001b[38;5;28;43mlist\u001b[39;49m\u001b[43m(\u001b[49m\u001b[43mnumbers\u001b[49m\u001b[43m)\u001b[49m)\n",
                        "\u001b[0;31mOverflowError\u001b[0m: Python int too large to convert to C ssize_t"
                    ]
                }
            ],
            "source": [
                "numbers: range = range(10**20)\n",
                "\n",
                "print(list(numbers))"
            ]
        },
        {
            "cell_type": "code",
            "execution_count": 6,
            "id": "ebf3637f",
            "metadata": {},
            "outputs": [
                {
                    "name": "stdout",
                    "output_type": "stream",
                    "text": [
                        "48\n",
                        "856\n"
                    ]
                }
            ],
            "source": [
                "import sys\n",
                "\n",
                "numbers: range = range(10**2)\n",
                "small_no: list = list(range(10**2))\n",
                "\n",
                "print(sys.getsizeof(numbers))\n",
                "print(sys.getsizeof(small_no))"
            ]
        },
        {
            "cell_type": "markdown",
            "id": "12cae2da",
            "metadata": {},
            "source": [
                "### global"
            ]
        },
        {
            "cell_type": "code",
            "execution_count": 9,
            "id": "a0c7f98f",
            "metadata": {},
            "outputs": [
                {
                    "name": "stdout",
                    "output_type": "stream",
                    "text": [
                        "{'__name__': '__main__', '__doc__': 'Automatically created module for IPython interactive environment', '__package__': None, '__loader__': None, '__spec__': None, '__builtin__': <module 'builtins' (built-in)>, '__builtins__': <module 'builtins' (built-in)>, '_ih': ['', 'numbers: range = range(10)\\n\\nprint(list(numbers))', 'numbers: range = range(10)\\n\\nprint(list(numbers))', 'numbers: range = range(10**20)\\n\\nprint(list(numbers))', 'import sys\\n\\nnumbers: range = range(10**20)\\n\\nprint(sys.sizeof(numbers))', 'import sys\\n\\nnumbers: range = range(10**20)\\n\\nprint(sys.getsizeof(numbers))', 'import sys\\n\\nnumbers: range = range(10**2)\\nsmall_no: list = list(range(10**2))\\n\\nprint(sys.getsizeof(numbers))\\nprint(sys.getsizeof(small_no))', 'print(global)', 'print(globals)', 'print(globals())'], '_oh': {}, '_dh': [PosixPath('/workspaces/intermediate-python/python-notebooks')], 'In': ['', 'numbers: range = range(10)\\n\\nprint(list(numbers))', 'numbers: range = range(10)\\n\\nprint(list(numbers))', 'numbers: range = range(10**20)\\n\\nprint(list(numbers))', 'import sys\\n\\nnumbers: range = range(10**20)\\n\\nprint(sys.sizeof(numbers))', 'import sys\\n\\nnumbers: range = range(10**20)\\n\\nprint(sys.getsizeof(numbers))', 'import sys\\n\\nnumbers: range = range(10**2)\\nsmall_no: list = list(range(10**2))\\n\\nprint(sys.getsizeof(numbers))\\nprint(sys.getsizeof(small_no))', 'print(global)', 'print(globals)', 'print(globals())'], 'Out': {}, 'get_ipython': <bound method InteractiveShell.get_ipython of <ipykernel.zmqshell.ZMQInteractiveShell object at 0x71ead444a9f0>>, 'exit': <IPython.core.autocall.ZMQExitAutocall object at 0x71eabf756870>, 'quit': <IPython.core.autocall.ZMQExitAutocall object at 0x71eabf756870>, 'open': <function open at 0x71ead91b7e20>, '_': '', '__': '', '___': '', '__vsc_ipynb_file__': '/workspaces/intermediate-python/python-notebooks/section-11.ipynb', '_i': 'print(globals)', '_ii': 'print(global)', '_iii': 'import sys\\n\\nnumbers: range = range(10**2)\\nsmall_no: list = list(range(10**2))\\n\\nprint(sys.getsizeof(numbers))\\nprint(sys.getsizeof(small_no))', '_i1': 'numbers: range = range(10)\\n\\nprint(list(numbers))', '__annotations__': {'numbers': <class 'range'>, 'small_no': <class 'list'>}, 'numbers': range(0, 100), '_i2': 'numbers: range = range(10)\\n\\nprint(list(numbers))', '_i3': 'numbers: range = range(10**20)\\n\\nprint(list(numbers))', '_i4': 'import sys\\n\\nnumbers: range = range(10**20)\\n\\nprint(sys.sizeof(numbers))', 'sys': <module 'sys' (built-in)>, '_i5': 'import sys\\n\\nnumbers: range = range(10**20)\\n\\nprint(sys.getsizeof(numbers))', '_i6': 'import sys\\n\\nnumbers: range = range(10**2)\\nsmall_no: list = list(range(10**2))\\n\\nprint(sys.getsizeof(numbers))\\nprint(sys.getsizeof(small_no))', 'small_no': [0, 1, 2, 3, 4, 5, 6, 7, 8, 9, 10, 11, 12, 13, 14, 15, 16, 17, 18, 19, 20, 21, 22, 23, 24, 25, 26, 27, 28, 29, 30, 31, 32, 33, 34, 35, 36, 37, 38, 39, 40, 41, 42, 43, 44, 45, 46, 47, 48, 49, 50, 51, 52, 53, 54, 55, 56, 57, 58, 59, 60, 61, 62, 63, 64, 65, 66, 67, 68, 69, 70, 71, 72, 73, 74, 75, 76, 77, 78, 79, 80, 81, 82, 83, 84, 85, 86, 87, 88, 89, 90, 91, 92, 93, 94, 95, 96, 97, 98, 99], '_i7': 'print(global)', '_i8': 'print(globals)', '_i9': 'print(globals())'}\n"
                    ]
                }
            ],
            "source": [
                "print(globals())"
            ]
        },
        {
            "cell_type": "markdown",
            "id": "fc1e7336",
            "metadata": {},
            "source": [
                "### local"
            ]
        },
        {
            "cell_type": "code",
            "execution_count": 1,
            "id": "6a39b0d1",
            "metadata": {},
            "outputs": [
                {
                    "name": "stdout",
                    "output_type": "stream",
                    "text": [
                        "{'string_1': 'hello', 'string_2': 'world', 'temp': <function hello.<locals>.temp at 0x7de1154125c0>}\n"
                    ]
                }
            ],
            "source": [
                "rand_num: int = 1234\n",
                "\n",
                "def hello():\n",
                "    string_1: str = \"hello\"\n",
                "    string_2: str = \"world\"\n",
                "\n",
                "    def temp():\n",
                "        pass\n",
                "    print(locals())\n",
                "\n",
                "hello()"
            ]
        },
        {
            "cell_type": "markdown",
            "id": "d7adf4fe",
            "metadata": {},
            "source": [
                "### any() or all()"
            ]
        },
        {
            "cell_type": "code",
            "execution_count": 3,
            "id": "2efc5220",
            "metadata": {},
            "outputs": [
                {
                    "name": "stdout",
                    "output_type": "stream",
                    "text": [
                        "Had food: True\n",
                        "If Patient: False\n"
                    ]
                }
            ],
            "source": [
                "breakfast: bool = True\n",
                "lunch: bool = True\n",
                "dinner: bool = True\n",
                "medicine = False\n",
                "\n",
                "requirements_2: list[bool] = [breakfast, lunch, dinner, medicine]\n",
                "\n",
                "print(f\"Had food: {any(requirements_2)}\")\n",
                "print(f\"If Patient: {all(requirements_2)}\")"
            ]
        },
        {
            "cell_type": "markdown",
            "id": "4858e738",
            "metadata": {},
            "source": [
                "### isinstance()"
            ]
        },
        {
            "cell_type": "code",
            "execution_count": 4,
            "id": "aa91f8d4",
            "metadata": {},
            "outputs": [
                {
                    "name": "stdout",
                    "output_type": "stream",
                    "text": [
                        "this one is string\n",
                        "this is the instance of same class\n"
                    ]
                }
            ],
            "source": [
                "class Car:\n",
                "    pass\n",
                "\n",
                "red_car: Car = Car()\n",
                "name: str = \"Kundan\"\n",
                "\n",
                "if isinstance(name, str):\n",
                "    print(\"this one is string\")\n",
                "if isinstance(red_car, Car):\n",
                "    print(\"this is the instance of same class\")"
            ]
        },
        {
            "cell_type": "markdown",
            "id": "a7b28f30",
            "metadata": {},
            "source": [
                "### callable()\n",
                "check weather it is callable or not"
            ]
        },
        {
            "cell_type": "code",
            "execution_count": 1,
            "id": "f7c692ca",
            "metadata": {},
            "outputs": [
                {
                    "name": "stdout",
                    "output_type": "stream",
                    "text": [
                        "False\n",
                        "True\n",
                        "True\n"
                    ]
                }
            ],
            "source": [
                "a: str = \"kundan\"\n",
                "\n",
                "def do_something():\n",
                "    pass\n",
                "\n",
                "def test():\n",
                "    pass\n",
                "\n",
                "if __name__ == \"__main__\":\n",
                "    print(callable(a))\n",
                "    print(callable(do_something))\n",
                "    print(callable(test))"
            ]
        },
        {
            "cell_type": "markdown",
            "id": "0cec41b5",
            "metadata": {},
            "source": [
                "### filter()"
            ]
        },
        {
            "cell_type": "code",
            "execution_count": 5,
            "id": "dc4d78dc",
            "metadata": {},
            "outputs": [
                {
                    "name": "stdout",
                    "output_type": "stream",
                    "text": [
                        "['kundan', 'shubhank', 'pankaj']\n"
                    ]
                }
            ],
            "source": [
                "item_list: list[str, int] = [\"kundan\", \"shubhank\", \"pankaj\", 10, 20]\n",
                "\n",
                "def filt_str(element):\n",
                "    return isinstance(element, str)\n",
                "\n",
                "filtered_list: list[int] = list(filter(filt_str, item_list))\n",
                "\n",
                "print(filtered_list)"
            ]
        },
        {
            "cell_type": "markdown",
            "id": "2359f554",
            "metadata": {},
            "source": [
                "### map()"
            ]
        },
        {
            "cell_type": "code",
            "execution_count": 1,
            "id": "4c981f77",
            "metadata": {},
            "outputs": [
                {
                    "name": "stdout",
                    "output_type": "stream",
                    "text": [
                        "['1', '4', '9', '16', '25', '36', '49']\n"
                    ]
                }
            ],
            "source": [
                "item_list: list[int] = [1, 2, 3, 4, 5, 6, 7]\n",
                "\n",
                "def map_logic(num: int):\n",
                "    num *= num\n",
                "    return str(num)\n",
                "\n",
                "updated_list: list[str] = list(map(map_logic, item_list))\n",
                "print(updated_list)"
            ]
        },
        {
            "cell_type": "markdown",
            "id": "153a9228",
            "metadata": {},
            "source": [
                "### sorted()"
            ]
        },
        {
            "cell_type": "code",
            "execution_count": 2,
            "id": "37cf28d5",
            "metadata": {},
            "outputs": [
                {
                    "name": "stdout",
                    "output_type": "stream",
                    "text": [
                        "[1, 2, 2, 4, 5, 6, 8]\n"
                    ]
                }
            ],
            "source": [
                "num_list: list[int] = [1,4,5,2,6,8,2]\n",
                "\n",
                "sorted_list = sorted(num_list)\n",
                "print(sorted_list)"
            ]
        },
        {
            "cell_type": "code",
            "execution_count": 4,
            "id": "0575a8c4",
            "metadata": {},
            "outputs": [
                {
                    "name": "stdout",
                    "output_type": "stream",
                    "text": [
                        "['A', 'b', 'c', 'E', 'q', 'z']\n"
                    ]
                }
            ],
            "source": [
                "str_list: list[str] = [\"A\", \"b\", \"E\", \"c\", \"z\", \"q\"]\n",
                "\n",
                "def sort_logic(element):\n",
                "    return element.lower()\n",
                "\n",
                "print(sorted(str_list, key=sort_logic))"
            ]
        },
        {
            "cell_type": "code",
            "execution_count": 6,
            "id": "70c758c1",
            "metadata": {},
            "outputs": [
                {
                    "name": "stdout",
                    "output_type": "stream",
                    "text": [
                        "[Car(name='BENZ', range=110), Car(name='BMW', range=240), Car(name='VOLVO', range=540)]\n"
                    ]
                }
            ],
            "source": [
                "from dataclasses import dataclass\n",
                "\n",
                "@dataclass\n",
                "class Car:\n",
                "    name: str\n",
                "    range: int\n",
                "\n",
                "\n",
                "red_car: Car = Car(\"BMW\", 240)\n",
                "blue_car: Car = Car(\"BENZ\", 110)\n",
                "white_car: Car = Car(\"VOLVO\", 540)\n",
                "\n",
                "car_list = [red_car, blue_car, white_car]\n",
                "\n",
                "def sort_logic(obj_name):\n",
                "    return obj_name.range\n",
                "\n",
                "print(sorted(car_list, key=sort_logic))\n"
            ]
        },
        {
            "cell_type": "markdown",
            "id": "5bf1aba2",
            "metadata": {},
            "source": [
                "### eval()"
            ]
        },
        {
            "cell_type": "code",
            "execution_count": null,
            "id": "24875442",
            "metadata": {},
            "outputs": [],
            "source": []
        }
    ],
    "metadata": {
        "kernelspec": {
            "display_name": "Python 3",
            "language": "python",
            "name": "python3"
        },
        "language_info": {
            "codemirror_mode": {
                "name": "ipython",
                "version": 3
            },
            "file_extension": ".py",
            "mimetype": "text/x-python",
            "name": "python",
            "nbconvert_exporter": "python",
            "pygments_lexer": "ipython3",
            "version": "3.12.1"
        }
    },
    "nbformat": 4,
    "nbformat_minor": 5
}
