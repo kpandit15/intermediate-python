{
    "cells": [
        {
            "cell_type": "markdown",
            "id": "7a9c51af",
            "metadata": {},
            "source": [
                "### classes and objects"
            ]
        },
        {
            "cell_type": "code",
            "execution_count": 3,
            "id": "1a446edd",
            "metadata": {},
            "outputs": [],
            "source": [
                "class Car:\n",
                "    def __init__(self, model: str, color: str):\n",
                "        self.model = model\n",
                "        self.color = color\n",
                "\n",
                "red_car: Car = Car(\"XUV500\", \"Red\")"
            ]
        },
        {
            "cell_type": "markdown",
            "id": "39fc68e9",
            "metadata": {},
            "source": [
                "### Class variable and Instance variable"
            ]
        },
        {
            "cell_type": "code",
            "execution_count": 11,
            "id": "a007e7a1",
            "metadata": {},
            "outputs": [
                {
                    "name": "stdout",
                    "output_type": "stream",
                    "text": [
                        "self.model='creata' self.color='red'\n",
                        "red_car.range=40\n",
                        "self.model='creata' self.color='blue'\n",
                        "blue_car.range=40\n",
                        "\n",
                        "\n",
                        "after changing value of class variable.......... \n",
                        "\n",
                        "self.model='creata' self.color='red'\n",
                        "red_car.range=50\n",
                        "self.model='creata' self.color='blue'\n",
                        "blue_car.range=50\n"
                    ]
                }
            ],
            "source": [
                "class Car:\n",
                "    range = 40\n",
                "\n",
                "    def __init__(self, model, color):\n",
                "        self.model = model\n",
                "        self.color = color\n",
                "\n",
                "    def print_details(self):\n",
                "        print(f\"{self.model=} {self.color=}\")\n",
                "\n",
                "\n",
                "red_car: Car = Car(\"creata\", \"red\")\n",
                "blue_car: Car = Car(\"creata\", \"blue\")\n",
                "\n",
                "red_car.print_details()\n",
                "print(f\"{red_car.range=}\")\n",
                "\n",
                "blue_car.print_details()\n",
                "print(f\"{blue_car.range=}\")\n",
                "\n",
                "print(\"\\n\\nafter changing value of class variable.......... \\n\")\n",
                "Car.range = 50\n",
                "\n",
                "red_car.print_details()\n",
                "print(f\"{red_car.range=}\")\n",
                "\n",
                "blue_car.print_details()\n",
                "print(f\"{blue_car.range=}\")"
            ]
        },
        {
            "cell_type": "markdown",
            "id": "7bd86e13",
            "metadata": {},
            "source": [
                "### __str__() & __repr__()"
            ]
        },
        {
            "cell_type": "code",
            "execution_count": 5,
            "id": "205726f2",
            "metadata": {},
            "outputs": [
                {
                    "name": "stdout",
                    "output_type": "stream",
                    "text": [
                        "bmw_car=self.model='X7', self.name='BMW'\n",
                        "self.model='X7', self.name='BMW'\n"
                    ]
                }
            ],
            "source": [
                "class Car:\n",
                "    def __init__(self, name: str, model: str):\n",
                "        self.name = name\n",
                "        self.model = model\n",
                "\n",
                "    def __repr__(self):\n",
                "        return (f\"{self.model=}, {self.name=}\")\n",
                "\n",
                "    def __str__(self):\n",
                "        return (f\"{self.model=}, {self.name=}\")\n",
                "    \n",
                "bmw_car: Car = Car(\"BMW\", \"X7\")\n",
                "print(f\"{bmw_car=}\")\n",
                "\n",
                "print(bmw_car.__repr__())\n"
            ]
        },
        {
            "cell_type": "markdown",
            "id": "990351e1",
            "metadata": {},
            "source": [
                "### __eq__()"
            ]
        },
        {
            "cell_type": "code",
            "execution_count": 6,
            "id": "e1347ca0",
            "metadata": {},
            "outputs": [
                {
                    "name": "stdout",
                    "output_type": "stream",
                    "text": [
                        "True\n",
                        "False\n"
                    ]
                }
            ],
            "source": [
                "class Car:\n",
                "    def __init__(self, name: str, model: str):\n",
                "        self.name = name\n",
                "        self.model = model\n",
                "\n",
                "    def __eq__(self, other):\n",
                "        return self.__dict__ == other.__dict__\n",
                "\n",
                "    \n",
                "car_1: Car = Car(\"BMW\", \"X7\")\n",
                "car_2: Car = Car(\"BMW\", \"X7\")\n",
                "car_3: Car = Car(\"Benz\", \"S Class\")\n",
                "\n",
                "\n",
                "print(car_1 == car_2)\n",
                "print(car_1 == car_3)\n"
            ]
        },
        {
            "cell_type": "markdown",
            "id": "3ef1ee82",
            "metadata": {},
            "source": [
                "### Private vs Protected"
            ]
        },
        {
            "cell_type": "code",
            "execution_count": 14,
            "id": "5b8114d6",
            "metadata": {},
            "outputs": [
                {
                    "name": "stdout",
                    "output_type": "stream",
                    "text": [
                        "self.model='X7', self.name='BMW', self._version=2\n",
                        "Protected asset: self.__range=40\n",
                        "Indirect access of protected assets: new_car._Car__range=40\n"
                    ]
                }
            ],
            "source": [
                "class Car:\n",
                "    def __init__(self, name: str, model: str, version: int):\n",
                "        self.name = name\n",
                "        self.model = model\n",
                "        self._version = version\n",
                "        self.__range = 40\n",
                "    \n",
                "    def print_details(self):\n",
                "        print(f\"{self.model=}, {self.name=}, {self._version=}\")\n",
                "        self.__maintaniance()\n",
                "\n",
                "    def __maintaniance(self):\n",
                "        print(f\"Protected asset: {self.__range=}\")\n",
                "\n",
                "new_car: Car = Car(\"BMW\", \"X7\", 2)\n",
                "new_car.print_details()\n",
                "\n",
                "# direct access of the protected assets are restricted but can be accessed using other way\n",
                "print(f\"Indirect access of protected assets: {new_car._Car__range=}\")"
            ]
        },
        {
            "cell_type": "markdown",
            "id": "bd8a503c",
            "metadata": {},
            "source": [
                "### inheritance"
            ]
        },
        {
            "cell_type": "code",
            "execution_count": 17,
            "id": "4396bcc3",
            "metadata": {},
            "outputs": [
                {
                    "name": "stdout",
                    "output_type": "stream",
                    "text": [
                        "15KG, kittens weight a lot\n",
                        "please be happy, romeo is working as software engineer\n"
                    ]
                }
            ],
            "source": [
                "class Animal:\n",
                "    def __init__(self, name: str):\n",
                "        self.name = name\n",
                "\n",
                "    def eat(self):\n",
                "        print(f\"{self.name} is sleeping\")\n",
                "\n",
                "\n",
                "    def sleep(self):\n",
                "        print(f\"{self.name} is sleeping\")\n",
                "\n",
                "\n",
                "class Cat(Animal):\n",
                "    def __init__(self, name: str, weight: int):\n",
                "        super().__init__(name)\n",
                "        self.weight = weight\n",
                "\n",
                "    def weight_present(self):\n",
                "        print(f\"{self.weight}KG, {self.name} weight a lot\")\n",
                "\n",
                "    \n",
                "class Dog(Animal):\n",
                "    def __init__(self, name: str, job: str):\n",
                "        super().__init__(name)\n",
                "        self.job = job\n",
                "\n",
                "    def work_at_job(self):\n",
                "        print(f\"please be happy, {self.name} is working as {self.job}\")\n",
                "\n",
                "\n",
                "cat: Cat = Cat(\"kittens\", 15)\n",
                "cat.weight_present()\n",
                "\n",
                "\n",
                "dog: Dog = Dog(\"romeo\", \"software engineer\")\n",
                "dog.work_at_job()"
            ]
        },
        {
            "cell_type": "markdown",
            "id": "67ee129e",
            "metadata": {},
            "source": [
                "### super()"
            ]
        },
        {
            "cell_type": "code",
            "execution_count": 21,
            "id": "b0578b6c",
            "metadata": {},
            "outputs": [
                {
                    "name": "stdout",
                    "output_type": "stream",
                    "text": [
                        "Using Electricity.....\n",
                        "MG turn on the car\n"
                    ]
                }
            ],
            "source": [
                "from dataclasses import dataclass\n",
                "\n",
                "@dataclass\n",
                "class Car:\n",
                "    name: str\n",
                "\n",
                "    def turn_on(self):\n",
                "        print(f\"{self.name} turn on the car\")\n",
                "\n",
                "    def turn_off(self):\n",
                "        print(f\"{self.name} turn off the car\")\n",
                "\n",
                "\n",
                "class ElectricCar(Car):\n",
                "    def __init__(self, name: str):\n",
                "        super().__init__(name)\n",
                "\n",
                "    \n",
                "    def turn_on(self):\n",
                "        print(\"Using Electricity.....\")\n",
                "        super().turn_on()\n",
                "\n",
                "car: ElectricCar = ElectricCar(\"MG\")\n",
                "car.turn_on()\n"
            ]
        },
        {
            "cell_type": "markdown",
            "id": "a3ead9d2",
            "metadata": {},
            "source": [
                "### @staticmethod & @classmethod"
            ]
        },
        {
            "cell_type": "code",
            "execution_count": 26,
            "id": "af95ced2",
            "metadata": {},
            "outputs": [
                {
                    "name": "stdout",
                    "output_type": "stream",
                    "text": [
                        "4\n",
                        "\n",
                        "With alternate constructor\n",
                        "HMT, 2 is the calculator brand\n"
                    ]
                }
            ],
            "source": [
                "class Calculator:\n",
                "    def __init__(self, name:str):\n",
                "        self.name = name\n",
                "\n",
                "    def description(self):\n",
                "        print(f\"{self.name} is the calculator brand\")\n",
                "    \n",
                "    @staticmethod\n",
                "    def add_numbers(a: int, b: int):\n",
                "        print(a + b)\n",
                "\n",
                "    @classmethod\n",
                "    def with_version(cls, name: str, version: int):\n",
                "        return cls(f\"{name}, {version}\")\n",
                "\n",
                "\n",
                "cal: Calculator = Calculator(\"Casio\")\n",
                "cal.add_numbers(1, 3)\n",
                "\n",
                "print(\"\\nWith alternate constructor\")\n",
                "cal: Calculator = Calculator.with_version(\"HMT\", 2)\n",
                "cal.description()\n"
            ]
        },
        {
            "cell_type": "markdown",
            "id": "3c9ba9f2",
            "metadata": {},
            "source": [
                "### @abstractmethod"
            ]
        },
        {
            "cell_type": "code",
            "execution_count": null,
            "id": "f387ec3f",
            "metadata": {},
            "outputs": [],
            "source": [
                "from abc import ABC, abstractclassmethod\n",
                "\n",
                "\n",
                "class Car:\n",
                "    pass"
            ]
        }
    ],
    "metadata": {
        "kernelspec": {
            "display_name": ".venv",
            "language": "python",
            "name": "python3"
        },
        "language_info": {
            "codemirror_mode": {
                "name": "ipython",
                "version": 3
            },
            "file_extension": ".py",
            "mimetype": "text/x-python",
            "name": "python",
            "nbconvert_exporter": "python",
            "pygments_lexer": "ipython3",
            "version": "3.12.7"
        }
    },
    "nbformat": 4,
    "nbformat_minor": 5
}
