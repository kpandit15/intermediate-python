{
    "cells": [
        {
            "cell_type": "markdown",
            "id": "48c062c9",
            "metadata": {},
            "source": [
                "__str__() & __repr__()"
            ]
        },
        {
            "cell_type": "code",
            "execution_count": 7,
            "id": "92eaaae0",
            "metadata": {},
            "outputs": [],
            "source": [
                "class Car:\n",
                "    def __init__(self, model: str, color: str):\n",
                "        self.model = model\n",
                "        self.color = color\n",
                "\n",
                "    def __str__(self):\n",
                "        return (f\"This object belong to {self.model} of color {self.color}\")"
            ]
        },
        {
            "cell_type": "code",
            "execution_count": 8,
            "id": "3eebb3fc",
            "metadata": {},
            "outputs": [
                {
                    "name": "stdout",
                    "output_type": "stream",
                    "text": [
                        "This object belong to x700 of color Red\n"
                    ]
                }
            ],
            "source": [
                "red_car: Car = Car(color=\"Red\", model=\"x700\")\n",
                "\n",
                "print(red_car)"
            ]
        },
        {
            "cell_type": "code",
            "execution_count": 9,
            "id": "b07e5486",
            "metadata": {},
            "outputs": [],
            "source": [
                "from dataclasses import dataclass\n",
                "\n",
                "@dataclass\n",
                "class Car:\n",
                "        model: str\n",
                "        color: str"
            ]
        },
        {
            "cell_type": "code",
            "execution_count": 11,
            "id": "716d9459",
            "metadata": {},
            "outputs": [
                {
                    "name": "stdout",
                    "output_type": "stream",
                    "text": [
                        "Car(model='creta', color='black')\n"
                    ]
                }
            ],
            "source": [
                "red_car = Car(model=\"creta\", color=\"black\")\n",
                "\n",
                "print(red_car)"
            ]
        },
        {
            "cell_type": "code",
            "execution_count": null,
            "id": "935e208d",
            "metadata": {},
            "outputs": [],
            "source": []
        }
    ],
    "metadata": {
        "kernelspec": {
            "display_name": "Python 3",
            "language": "python",
            "name": "python3"
        },
        "language_info": {
            "codemirror_mode": {
                "name": "ipython",
                "version": 3
            },
            "file_extension": ".py",
            "mimetype": "text/x-python",
            "name": "python",
            "nbconvert_exporter": "python",
            "pygments_lexer": "ipython3",
            "version": "3.12.1"
        }
    },
    "nbformat": 4,
    "nbformat_minor": 5
}
